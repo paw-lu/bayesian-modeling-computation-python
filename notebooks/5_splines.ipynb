{
 "cells": [
  {
   "cell_type": "markdown",
   "id": "186c81ef-8cf6-42d0-aa7c-982232a0fb5a",
   "metadata": {
    "tags": []
   },
   "source": [
    "# Splines"
   ]
  },
  {
   "cell_type": "markdown",
   "id": "11222fb7-16f3-410c-97b2-8a4918635421",
   "metadata": {
    "tags": []
   },
   "source": [
    "## Imports"
   ]
  },
  {
   "cell_type": "code",
   "execution_count": 13,
   "id": "479fea93-ffca-4a2e-9400-958289490d36",
   "metadata": {},
   "outputs": [],
   "source": [
    "from typing import Sequence\n",
    "\n",
    "import matplotlib.pyplot as plt\n",
    "import numpy as np\n",
    "import patsy\n",
    "import pymc3 as pm\n",
    "from patsy.design_info import DesignMatrix"
   ]
  },
  {
   "cell_type": "markdown",
   "id": "c14e142d-3cbd-43e1-936e-ccce3439ec99",
   "metadata": {},
   "source": [
    "## Polynomial regression"
   ]
  },
  {
   "cell_type": "markdown",
   "id": "5f851c9a-e337-4041-b54d-c5d4896eba9c",
   "metadata": {},
   "source": [
    "Linear model can be written as\n",
    "\n",
    "$$\n",
    "\\mathbb{E}[Y]= \\beta_0 + \\beta_1 X\n",
    "$$\n",
    "\n",
    "which looks like\n",
    "\n",
    "$$\n",
    "\\mathbb{E}[Y]= \\beta_0 + \\beta_1 X + \\beta_2 X^2 + \\cdots + \\beta_m X^m\n",
    "$$\n",
    "\n",
    "for a **polynomial regression**.\n",
    "As we increase the order of the polynomial—$m$—we\n",
    "increase the flexibility of the curve.\n",
    "Problem is that polynomials act globally—when\n",
    "we apply a polynomial of degree $m$\n",
    "we are saying the relationship between the $Y$ and $X$ is of degree $m$\n",
    "for the entire dataset.\n",
    "\n",
    "This can lead to curves that are too flexible,\n",
    "and prone to overfitting."
   ]
  },
  {
   "cell_type": "markdown",
   "id": "fd5e2c07-da58-4d03-9ee6-dcf18a0e4e21",
   "metadata": {
    "tags": []
   },
   "source": [
    "## Expanding the feature space"
   ]
  },
  {
   "cell_type": "markdown",
   "id": "d982f1b7-0879-41fc-abd0-5be0d5c566e7",
   "metadata": {},
   "source": [
    "Polynomial regression\n",
    "is a method to **expand the feature space**.\n",
    "Beyond polynomials,\n",
    "we can expand features as:\n",
    "\n",
    "$$\n",
    "\\mathbb{E}[Y]= \\beta_0 + \\beta_1 B_{1}(X_{1}) + \\beta_2 B_{2}(X_{2}) + \\cdots + \\beta_m B_{m}(X_{m})\n",
    "$$\n",
    "\n",
    "where $B_i$ are arbitrary functions—**basis\n",
    "functions**.\n",
    "\n",
    "Besides polynomials,\n",
    "basis functions\n",
    "can be a power of two,\n",
    "lograrithms,\n",
    "square root,\n",
    "etc.\n",
    "\n",
    "Can use indicator functions\n",
    "like $I(c_i \\leq x_k < c_j)$\n",
    "to break up the original $\\boldsymbol{X}$ predictor into (non-overlapping) subsets\n",
    "and then fit the polynomial locally—only\n",
    "inside these subsets.\n",
    "This is fitting **piecewise polynomials**.\n",
    "\n",
    "![piecewise](images/chapter_5/piecewise.png)\n",
    "\n",
    "In chart above,\n",
    "blue line is true function we try to approximate.\n",
    "Black line are piecewise polynomials of order 1–4—respectively.\n",
    "Dashed verticals are limits of each subdomain.\n",
    "\n",
    "Same idea can be extended to more than one predictor,\n",
    "and be combined with an inverse link function $\\phi$.\n",
    "These are known as **Generalized Additive Models (GAM)**.\n",
    "\n",
    "$$\n",
    "\\mathbb{E}[Y]= \\phi \\left(\\sum_i^p f(X_i)\\right)\n",
    "$$\n"
   ]
  },
  {
   "cell_type": "markdown",
   "id": "225a4b9f-fdc2-457d-b0e1-f223d9900017",
   "metadata": {},
   "source": [
    "## Introducing splines"
   ]
  },
  {
   "cell_type": "markdown",
   "id": "a87fdae3-9a53-4d43-9731-f496cd32c54c",
   "metadata": {},
   "source": [
    "**Splines** are an atttempt to use flexibility of polynomials\n",
    "but keep them under control.\n",
    "A spline needs knots\n",
    "to split the domain of the variable $\\boldsymbol{X}$ into contiguous intervals.\n",
    "For this purpose a spline is a piecewise polynomial constrained to be continuous—\n",
    "we enforce two contiguous sub-polynomials to meet at the knots.\n",
    "If sub-polynomials are of degree $n$\n",
    "we say the spline is of degree $n$.\n",
    "Sometimes the splines are referred to by their order—$n + 1$.\n",
    "\n",
    "Sub-polynomials are known as **Basis splines (B-splines)**.\n",
    "Any spline function of a given degree\n",
    "can be constructed as a lineare combination of basis splines of that degree.\n",
    "\n",
    "![splines basis](images/chapter_5/splines_basis.png)\n",
    "\n",
    "As we increse the B-spline degree,\n",
    "the domain of the B-spline grows.\n",
    "For a higher degree spline to make sense\n",
    "we need to define more knots.\n",
    "B-splines here are restricted to be non-zero only\n",
    "instide a given interval.\n",
    "\n",
    "As the number of knots controlling each B-splines grows with the degree\n",
    "we are not able to define a B-spline near the boundaries.\n",
    "We can add knots at the boundaries to make up for this.\n",
    "So if our knots are $(0,1,2,3,4,5)$\n",
    "and we want to fit a cubic spline,\n",
    "we actually use $(0,0,0,0,1,2,3,4,5,5,5,5)$.\n",
    "We now have the 5 necessary knots—$(0,0,0,0,1)$—to\n",
    "define the first B-spline\n",
    "and $(0,0,0,1,2)$ to define the second B-spline.\n",
    "We pad the boundary knots as many times as the degree of the splint.\n",
    "\n",
    "![splines weighted](images/chapter_5/splines_weighted.png)\n",
    "\n",
    "A linear combination of the B-spline\n",
    "allows for complex fitting.\n",
    "We choose:\n",
    "\n",
    "1. The order of the B-splines\n",
    "2. The number and location of knots\n",
    "3. The coefficients to weight each B-spline\n",
    "\n",
    "The wights are sampled,\n",
    "so you can have multiple possible combinations over the splines.\n",
    "\n",
    "Cubic is the most commonly use spline.\n",
    "They are the lowerst order able to generate smooth enough curves\n",
    "for most common scenarios."
   ]
  },
  {
   "cell_type": "markdown",
   "id": "bd11aeea-d3b2-421a-8a2f-bc9e6690c230",
   "metadata": {},
   "source": [
    "## Building the design matrix using Patsy"
   ]
  },
  {
   "cell_type": "code",
   "execution_count": 43,
   "id": "b85105ae-bf71-4f88-87a9-d06c84dc5cf7",
   "metadata": {},
   "outputs": [
    {
     "data": {
      "image/png": "[encoded data removed]",
      "text/plain": [
       "<Figure size 1440x504 with 3 Axes>"
      ]
     },
     "metadata": {
      "needs_background": "light"
     },
     "output_type": "display_data"
    }
   ],
   "source": [
    "x = np.linspace(0, 1, 20)\n",
    "knots = [0.25, 0.5, 0.75]\n",
    "\n",
    "\n",
    "def make_splines(\n",
    "    x: Sequence[float], knots: Sequence[float], degree: int\n",
    ") -> DesignMatrix:\n",
    "    \"\"\"Create splines using Patsy.\"\"\"\n",
    "    splines = patsy.dmatrix(\n",
    "        f\"bs(x, knots=knots, degree={degree}, include_intercept=True) - 1\",\n",
    "        {\"x\": x, \"knots\": knots},\n",
    "    )\n",
    "\n",
    "    return splines\n",
    "\n",
    "\n",
    "b0 = make_splines(x, knots=knots, degree=0)\n",
    "b1 = make_splines(x, knots=knots, degree=1)\n",
    "b3 = make_splines(x, knots=knots, degree=3)\n",
    "\n",
    "_, axes = plt.subplots(1, 3, sharey=True, figsize=(20, 7))\n",
    "\n",
    "for idx, (b, title, ax) in enumerate(\n",
    "    zip(\n",
    "        (b0, b1, b3),\n",
    "        (\"Piecewise constant\", \"Piecewise linear\", \"Cubic spline\"),\n",
    "        axes,\n",
    "    )\n",
    "):\n",
    "    ax.imshow(b, cmap=\"cet_gray_r\", aspect=\"auto\")\n",
    "    ax.set_xticks(np.arange(b.shape[1]))\n",
    "#     ax.set_yticks(np.arange(b.shape[0]))\n",
    "    ax.set_title(title)\n",
    "\n",
    "axes[1].set_xlabel(\"b-splines\")\n",
    "axes[0].set_ylabel(\"x\");"
   ]
  },
  {
   "cell_type": "code",
   "execution_count": 28,
   "id": "2e96da11-e3fd-4f45-9cea-0f89f34915dc",
   "metadata": {},
   "outputs": [
    {
     "data": {
      "text/plain": [
       "array([[1., 0., 0., 0.],\n",
       "       [1., 0., 0., 0.],\n",
       "       [1., 0., 0., 0.],\n",
       "       ...,\n",
       "       [0., 0., 0., 1.],\n",
       "       [0., 0., 0., 1.],\n",
       "       [0., 0., 0., 1.]])"
      ]
     },
     "execution_count": 28,
     "metadata": {},
     "output_type": "execute_result"
    }
   ],
   "source": [
    "np.asarray(b0)"
   ]
  },
  {
   "cell_type": "code",
   "execution_count": 29,
   "id": "f41e05fd-cdd9-4fa6-a2ca-97dd90b030a9",
   "metadata": {},
   "outputs": [
    {
     "data": {
      "text/plain": [
       "array([[1.        , 0.        , 0.        , 0.        , 0.        ],\n",
       "       [0.99198397, 0.00801603, 0.        , 0.        , 0.        ],\n",
       "       [0.98396794, 0.01603206, 0.        , 0.        , 0.        ],\n",
       "       ...,\n",
       "       [0.        , 0.        , 0.        , 0.01603206, 0.98396794],\n",
       "       [0.        , 0.        , 0.        , 0.00801603, 0.99198397],\n",
       "       [0.        , 0.        , 0.        , 0.        , 1.        ]])"
      ]
     },
     "execution_count": 29,
     "metadata": {},
     "output_type": "execute_result"
    }
   ],
   "source": [
    "np.asarray(b1)"
   ]
  },
  {
   "cell_type": "code",
   "execution_count": 30,
   "id": "45c2b7c9-e593-4c19-aa06-33d27ea8f4a0",
   "metadata": {},
   "outputs": [
    {
     "data": {
      "text/plain": [
       "array([[1.00000000e+00, 0.00000000e+00, 0.00000000e+00, ...,\n",
       "        0.00000000e+00, 0.00000000e+00, 0.00000000e+00],\n",
       "       [9.76144159e-01, 2.37598421e-02, 9.59129944e-05, ...,\n",
       "        0.00000000e+00, 0.00000000e+00, 0.00000000e+00],\n",
       "       [9.52670768e-01, 4.69467817e-02, 3.81763335e-04, ...,\n",
       "        0.00000000e+00, 0.00000000e+00, 0.00000000e+00],\n",
       "       ...,\n",
       "       [0.00000000e+00, 0.00000000e+00, 0.00000000e+00, ...,\n",
       "        3.81763335e-04, 4.69467817e-02, 9.52670768e-01],\n",
       "       [0.00000000e+00, 0.00000000e+00, 0.00000000e+00, ...,\n",
       "        9.59129944e-05, 2.37598421e-02, 9.76144159e-01],\n",
       "       [0.00000000e+00, 0.00000000e+00, 0.00000000e+00, ...,\n",
       "        0.00000000e+00, 0.00000000e+00, 1.00000000e+00]])"
      ]
     },
     "execution_count": 30,
     "metadata": {},
     "output_type": "execute_result"
    }
   ],
   "source": [
    "np.asarray(b3)"
   ]
  },
  {
   "cell_type": "markdown",
   "id": "a37dca67-65be-484a-ad35-dfab938144de",
   "metadata": {},
   "source": [
    "For `b0`\n",
    "we see the design mattix has only 0s or 1s.\n",
    "The first B-spline is 1 for the first 5 observations,\n",
    "and 0 otherwise.\n",
    "The second B-spline\n",
    "is 0 for the first 5 observations\n",
    "1 for the second 5,\n",
    "and 0 again."
   ]
  }
 ],
 "metadata": {
  "kernelspec": {
   "display_name": "Poetry",
   "language": "python",
   "name": "poetry-kernel"
  },
  "language_info": {
   "codemirror_mode": {
    "name": "ipython",
    "version": 3
   },
   "file_extension": ".py",
   "mimetype": "text/x-python",
   "name": "python",
   "nbconvert_exporter": "python",
   "pygments_lexer": "ipython3",
   "version": "3.9.5"
  }
 },
 "nbformat": 4,
 "nbformat_minor": 5
}
