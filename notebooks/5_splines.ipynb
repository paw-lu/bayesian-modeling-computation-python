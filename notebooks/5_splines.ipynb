{
 "cells": [
  {
   "cell_type": "markdown",
   "id": "186c81ef-8cf6-42d0-aa7c-982232a0fb5a",
   "metadata": {
    "tags": []
   },
   "source": [
    "# Splines"
   ]
  },
  {
   "cell_type": "markdown",
   "id": "11222fb7-16f3-410c-97b2-8a4918635421",
   "metadata": {
    "tags": []
   },
   "source": [
    "## Imports"
   ]
  },
  {
   "cell_type": "code",
   "execution_count": null,
   "id": "479fea93-ffca-4a2e-9400-958289490d36",
   "metadata": {},
   "outputs": [],
   "source": [
    "import pymc3 as pm"
   ]
  },
  {
   "cell_type": "markdown",
   "id": "c14e142d-3cbd-43e1-936e-ccce3439ec99",
   "metadata": {},
   "source": [
    "## Polynomial regression"
   ]
  },
  {
   "cell_type": "markdown",
   "id": "5f851c9a-e337-4041-b54d-c5d4896eba9c",
   "metadata": {},
   "source": [
    "Linear model can be written as\n",
    "\n",
    "$$\n",
    "\\mathbb{E}[Y]= \\beta_0 + \\beta_1 X\n",
    "$$\n",
    "\n",
    "which looks like\n",
    "\n",
    "$$\n",
    "\\mathbb{E}[Y]= \\beta_0 + \\beta_1 X + \\beta_2 X^2 + \\cdots + \\beta_m X^m\n",
    "$$\n",
    "\n",
    "for a **polynomial regression**.\n",
    "As we increase the order of the polynomial—$m$—we\n",
    "increase the flexibility of the curve.\n",
    "Problem is that polynomials act globally—when\n",
    "we apply a polynomial of degree $m$\n",
    "we are saying the relationship between the $Y$ and $X$ is of degree $m$\n",
    "for the entire dataset.\n",
    "\n",
    "This can lead to curves that are too flexible,\n",
    "and prone to overfitting."
   ]
  },
  {
   "cell_type": "markdown",
   "id": "fd5e2c07-da58-4d03-9ee6-dcf18a0e4e21",
   "metadata": {
    "tags": []
   },
   "source": [
    "## Expanding the feature space"
   ]
  },
  {
   "cell_type": "markdown",
   "id": "d982f1b7-0879-41fc-abd0-5be0d5c566e7",
   "metadata": {},
   "source": [
    "Polynomial regression\n",
    "is a method to **expand the feature space**.\n",
    "Beyond polynomials,\n",
    "we can expand features as:\n",
    "\n",
    "$$\n",
    "\\mathbb{E}[Y]= \\beta_0 + \\beta_1 B_{1}(X_{1}) + \\beta_2 B_{2}(X_{2}) + \\cdots + \\beta_m B_{m}(X_{m})\n",
    "$$\n",
    "\n",
    "where $B_i$ are arbitrary functions—**basis\n",
    "functions**.\n",
    "\n",
    "Besides polynomials,\n",
    "basis functions\n",
    "can be a power of two,\n",
    "lograrithms,\n",
    "square root,\n",
    "etc.\n",
    "\n",
    "Can use indicator functions\n",
    "like $I(c_i \\leq x_k < c_j)$\n",
    "to break up the original $\\boldsymbol{X}$ predictor into (non-overlapping) subsets\n",
    "and then fit the polynomial locally—only\n",
    "inside these subsets.\n",
    "This is fitting **piecewise polynomials**.\n",
    "\n",
    "![piecewise](images/chapter_5/piecewise.png)\n",
    "\n",
    "In chart above,\n",
    "blue line is true function we try to approximate.\n",
    "Black line are piecewise polynomials of order 1–4—respectively.\n",
    "Dashed verticals are limits of each subdomain.\n",
    "\n",
    "Same idea can be extended to more than one predictor,\n",
    "and be combined with an inverse link function $\\phi$.\n",
    "These are known as **Generalized Additive Models (GAM)**.\n",
    "\n",
    "$$\n",
    "\\mathbb{E}[Y]= \\phi \\left(\\sum_i^p f(X_i)\\right)\n",
    "$$\n"
   ]
  },
  {
   "cell_type": "markdown",
   "id": "225a4b9f-fdc2-457d-b0e1-f223d9900017",
   "metadata": {},
   "source": [
    "## Introducing splines"
   ]
  },
  {
   "cell_type": "markdown",
   "id": "a87fdae3-9a53-4d43-9731-f496cd32c54c",
   "metadata": {},
   "source": [
    "**Splines** are an atttempt to use flexibility of polynomials\n",
    "but keep them under control.\n",
    "A spline needs knots\n",
    "to split the domain of the variable $\\boldsymbol{X}$ into contiguous intervals.\n",
    "For this purpose a spline is a piecewise polynomial constrained to be continuous—\n",
    "we enforce two contiguous sub-polynomials to meet at the knots.\n",
    "If sub-polynomials are of degree $n$\n",
    "we say the spline is of degree $n$.\n",
    "Sometimes the splines are referred to by their order—$n + 1$.\n",
    "\n",
    "Sub-polynomials are known as **Basis splines (B-splines)**.\n",
    "Any spline function of a given degree\n",
    "can be constructed as a lineare combination of basis splines of that degree.\n",
    "\n",
    "![splines basis](images/chapter_5/splines_basis.png)\n",
    "\n",
    "As we increse the B-spline degree,\n",
    "the domain of the B-spline grows.\n",
    "For a higher degree spline to make sense\n",
    "we need to define more knots.\n",
    "B-splines here are restricted to be non-zero only\n",
    "instide a given interval.\n",
    "\n",
    "As the number of knots controlling each B-splines grows with the degree\n",
    "we are not able to define a B-spline near the boundaries.\n",
    "We can add knots at the boundaries to make up for this.\n",
    "So if our knots are $(0,1,2,3,4,5)$\n",
    "and we want to fit a cubic spline,\n",
    "we actually use $(0,0,0,0,1,2,3,4,5,5,5,5)$.\n",
    "We now have the 5 necessary knots—$(0,0,0,0,1)$—to\n",
    "define the first B-spline\n",
    "and $(0,0,0,1,2)$ to define the second B-spline.\n",
    "We pad the boundary knots as many times as the degree of the splint.\n",
    "\n",
    "![splines weighted](images/chapter_5/splines_weighted.png)\n",
    "\n",
    "A linear combination of the B-spline\n",
    "allows for complex fitting.\n",
    "We choose:\n",
    "\n",
    "1. The order of the B-splines\n",
    "2. The number and location of knots\n",
    "3. The coefficients to weight each B-spline\n",
    "\n",
    "The wights are sampled,\n",
    "so you can have multiple possible combinations over the splines.\n",
    "\n",
    "Cubic is the most commonly use spline.\n",
    "They are the lowerst order able to generate smooth enough curves\n",
    "for most common scenarios."
   ]
  }
 ],
 "metadata": {
  "kernelspec": {
   "display_name": "Poetry",
   "language": "python",
   "name": "poetry-kernel"
  },
  "language_info": {
   "name": ""
  }
 },
 "nbformat": 4,
 "nbformat_minor": 5
}
