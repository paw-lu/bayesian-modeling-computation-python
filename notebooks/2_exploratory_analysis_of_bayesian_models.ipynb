{
 "cells": [
  {
   "cell_type": "markdown",
   "id": "976fd56c-b420-438b-89ff-904301517179",
   "metadata": {},
   "source": [
    "# Exploratory analysis of Bayesian models"
   ]
  },
  {
   "cell_type": "markdown",
   "id": "3dd703a6-831b-419f-8504-888f82bf30b7",
   "metadata": {},
   "source": [
    "## Life after inference"
   ]
  },
  {
   "cell_type": "markdown",
   "id": "954795b1-f958-4960-9cdd-3b1cb10f8031",
   "metadata": {},
   "source": [
    "## Understanding your assumptions"
   ]
  },
  {
   "cell_type": "markdown",
   "id": "2c6dd2be-fa9c-40e7-8e64-0e3413b56bfb",
   "metadata": {},
   "source": [
    "**Prior predictive checks**\n",
    "are computing a prior predictive distribution by sampling from the model\n",
    "without taking into account the data.\n",
    "This can be used to understand affects of choices of priors.\n",
    "\n",
    "If priors give bad values:\n",
    "\n",
    "- Rethinkg model\n",
    "- Use prior that reduces invalid results\n",
    "- See if data is informative enough to exclude nonsensical values\n",
    "\n",
    "For example a logistic regression\n",
    "can favor more and more extreme values\n",
    "as the number of predictors increases.\n",
    "A strong regularizing prior—like\n",
    "the Laplace distribution—\n",
    "can keep model away from extreme values.\n"
   ]
  },
  {
   "cell_type": "markdown",
   "id": "cb9adcd1-fde2-4ec8-8258-9247902ffce1",
   "metadata": {},
   "source": [
    "### Understanding your predictions"
   ]
  },
  {
   "cell_type": "markdown",
   "id": "a23ee246-b546-411d-b38b-dbe7b36f50af",
   "metadata": {},
   "source": [
    "**Posterior predictive checks**\n",
    "evaluate how close the synthetic observations are\n",
    "to the actual observations.\n",
    "\n",
    "Can plot them againt each other to visially inspect,\n",
    "or use Baeysian p-value—probability\n",
    "that simulated test statistic $T_{sim}$\n",
    "is less or equal than the observed statistic $T_{obs}$.\n",
    "Usually the ideal value is $p_{B} = 0.5$—half\n",
    "the time it's below,\n",
    "and the other half above.\n",
    "\n",
    "$$\n",
    "p_{B} = p(T_{sim} \\leq T_{obs} \\mid \\tilde Y)\n",
    "$$\n",
    "\n",
    "Can plot with `az.plot_bpv(..., kind=\"p_value\")`.\n",
    "\n",
    "Arviz funcitons for plots:\n",
    "\n",
    "- **`az.plot_ppc(..)`**\n",
    "  plots generated model data vs actual data\n",
    "- **`az.plot_bpv(..., kind=\"p_values\")`**\n",
    "  plots the proportion of predicted values\n",
    "  that are less than or equal to the observed data (p-value)\n",
    "  compared to the expected distribution for a dataset of the same size\n",
    "  as the observed data\n",
    "- **`az.plot_bpv(..., kind=\"u_values\")`**\n",
    "  plots the proportion of predicted values that are less or equal than the observed per observation.\n",
    "  Ideal case is white line—a uniform distribution.\n",
    "  Grey band is where we expect to see 94% of Uniform-like curves,\n",
    "  even good models have deviations from a perfect Uniform.\n",
    "\n",
    "![Posterior check plots](images/chapter_2/posterior_predictive_many_examples.png)\n"
   ]
  }
 ],
 "metadata": {
  "kernelspec": {
   "display_name": "Poetry",
   "language": "python",
   "name": "poetry-kernel"
  },
  "language_info": {
   "codemirror_mode": {
    "name": "ipython",
    "version": 3
   },
   "file_extension": ".py",
   "mimetype": "text/x-python",
   "name": "python",
   "nbconvert_exporter": "python",
   "pygments_lexer": "ipython3",
   "version": "3.9.5"
  }
 },
 "nbformat": 4,
 "nbformat_minor": 5
}
